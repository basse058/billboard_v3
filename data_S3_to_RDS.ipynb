{
  "cells": [
    {
      "cell_type": "markdown",
      "metadata": {
        "id": "view-in-github",
        "colab_type": "text"
      },
      "source": [
        "<a href=\"https://colab.research.google.com/github/basse058/billboard_v3/blob/main/data_S3_to_RDS.ipynb\" target=\"_parent\"><img src=\"https://colab.research.google.com/assets/colab-badge.svg\" alt=\"Open In Colab\"/></a>"
      ]
    },
    {
      "cell_type": "code",
      "execution_count": null,
      "metadata": {
        "colab": {
          "base_uri": "https://localhost:8080/"
        },
        "id": "-8eFW_wl1n39",
        "outputId": "ac842372-93a0-46ac-d5cd-2ddba5bd3f93"
      },
      "outputs": [
        {
          "output_type": "stream",
          "name": "stdout",
          "text": [
            "\r0% [Working]\r            \rGet:1 https://developer.download.nvidia.com/compute/cuda/repos/ubuntu2004/x86_64  InRelease [1,581 B]\n",
            "\r0% [Waiting for headers] [Connecting to security.ubuntu.com] [Connected to clou\r0% [Waiting for headers] [Connecting to security.ubuntu.com] [Connected to clou\r                                                                               \rHit:2 http://archive.ubuntu.com/ubuntu focal InRelease\n",
            "\r                                                                               \rGet:3 https://cloud.r-project.org/bin/linux/ubuntu focal-cran40/ InRelease [3,622 B]\n",
            "Get:4 http://archive.ubuntu.com/ubuntu focal-updates InRelease [114 kB]\n",
            "Get:5 http://security.ubuntu.com/ubuntu focal-security InRelease [114 kB]\n",
            "Get:6 http://ppa.launchpad.net/c2d4u.team/c2d4u4.0+/ubuntu focal InRelease [18.1 kB]\n",
            "Get:7 https://developer.download.nvidia.com/compute/cuda/repos/ubuntu2004/x86_64  Packages [920 kB]\n",
            "Get:8 http://archive.ubuntu.com/ubuntu focal-backports InRelease [108 kB]\n",
            "Hit:9 http://ppa.launchpad.net/cran/libgit2/ubuntu focal InRelease\n",
            "Hit:10 http://ppa.launchpad.net/deadsnakes/ppa/ubuntu focal InRelease\n",
            "Get:11 http://archive.ubuntu.com/ubuntu focal-updates/main amd64 Packages [3,021 kB]\n",
            "Hit:12 http://ppa.launchpad.net/graphics-drivers/ppa/ubuntu focal InRelease\n",
            "Hit:13 http://ppa.launchpad.net/ubuntugis/ppa/ubuntu focal InRelease\n",
            "Get:14 http://archive.ubuntu.com/ubuntu focal-updates/universe amd64 Packages [1,313 kB]\n",
            "Get:15 http://ppa.launchpad.net/c2d4u.team/c2d4u4.0+/ubuntu focal/main Sources [2,398 kB]\n",
            "Get:16 http://ppa.launchpad.net/c2d4u.team/c2d4u4.0+/ubuntu focal/main amd64 Packages [1,136 kB]\n",
            "Get:17 http://security.ubuntu.com/ubuntu focal-security/main amd64 Packages [2,544 kB]\n",
            "Get:18 http://security.ubuntu.com/ubuntu focal-security/universe amd64 Packages [1,017 kB]\n",
            "Fetched 12.7 MB in 6s (2,199 kB/s)\n",
            "Reading package lists... Done\n"
          ]
        }
      ],
      "source": [
        "# Activate Spark in our Colab notebook.\n",
        "import os\n",
        "# Find the latest version of spark 3.2  from http://www.apache.org/dist/spark/ and enter as the spark version\n",
        "# For example:\n",
        "# spark_version = 'spark-3.2.2'\n",
        "spark_version = 'spark-3.2.3'\n",
        "os.environ['SPARK_VERSION']=spark_version\n",
        "\n",
        "# Install Spark and Java\n",
        "!apt-get update\n",
        "!apt-get install openjdk-11-jdk-headless -qq > /dev/null\n",
        "!wget -q http://www.apache.org/dist/spark/$SPARK_VERSION/$SPARK_VERSION-bin-hadoop2.7.tgz\n",
        "!tar xf $SPARK_VERSION-bin-hadoop2.7.tgz\n",
        "!pip install -q findspark\n",
        "\n",
        "# Set Environment Variables\n",
        "import os\n",
        "os.environ[\"JAVA_HOME\"] = \"/usr/lib/jvm/java-11-openjdk-amd64\"\n",
        "os.environ[\"SPARK_HOME\"] = f\"/content/{spark_version}-bin-hadoop2.7\"\n",
        "\n",
        "# Start a SparkSession\n",
        "import findspark\n",
        "findspark.init()"
      ]
    },
    {
      "cell_type": "code",
      "execution_count": null,
      "metadata": {
        "colab": {
          "base_uri": "https://localhost:8080/"
        },
        "id": "BzCrgs0Z1rnw",
        "outputId": "44ed6069-58d1-4072-f355-4d48bfd6eba0"
      },
      "outputs": [
        {
          "output_type": "stream",
          "name": "stdout",
          "text": [
            "--2023-03-17 18:31:41--  https://jdbc.postgresql.org/download/postgresql-42.2.9.jar\n",
            "Resolving jdbc.postgresql.org (jdbc.postgresql.org)... 72.32.157.228, 2001:4800:3e1:1::228\n",
            "Connecting to jdbc.postgresql.org (jdbc.postgresql.org)|72.32.157.228|:443... connected.\n",
            "HTTP request sent, awaiting response... 200 OK\n",
            "Length: 914037 (893K) [application/java-archive]\n",
            "Saving to: ‘postgresql-42.2.9.jar’\n",
            "\n",
            "postgresql-42.2.9.j 100%[===================>] 892.61K  5.49MB/s    in 0.2s    \n",
            "\n",
            "2023-03-17 18:31:41 (5.49 MB/s) - ‘postgresql-42.2.9.jar’ saved [914037/914037]\n",
            "\n"
          ]
        }
      ],
      "source": [
        "# Get postgresql package\n",
        "!wget https://jdbc.postgresql.org/download/postgresql-42.2.9.jar"
      ]
    },
    {
      "cell_type": "code",
      "execution_count": null,
      "metadata": {
        "id": "0DuBth0V2PR8"
      },
      "outputs": [],
      "source": [
        "# Import Spark and create a SparkSession\n",
        "from pyspark.sql import SparkSession\n",
        "spark = SparkSession.builder.appName(\"billboard-100\").config(\"spark.driver.extraClassPath\",\"/content/postgresql-42.2.9.jar\").getOrCreate()"
      ]
    },
    {
      "cell_type": "markdown",
      "metadata": {
        "id": "D3W2XJVi2CU-"
      },
      "source": [
        "# Extract the Amazon Data into Spark DataFrame"
      ]
    },
    {
      "cell_type": "code",
      "execution_count": null,
      "metadata": {
        "colab": {
          "base_uri": "https://localhost:8080/"
        },
        "id": "Na_stw7b1wfU",
        "outputId": "eaeae32f-b14b-4858-de2f-f9a4cf48ebfd"
      },
      "outputs": [
        {
          "output_type": "stream",
          "name": "stdout",
          "text": [
            "+--------------------+--------------------+----+---------+--------------+--------------------+------------+------+----+--------+----+-----------+------------+----------------+--------+-------+-------+-----------+--------------+---------+------+---+\n",
            "|                song|              artist|year|peak-rank|weeks-on-board|            track_id|danceability|energy| key|loudness|mode|speechiness|acousticness|instrumentalness|liveness|valence|  tempo|duration_ms|time_signature|billboard|decade| id|\n",
            "+--------------------+--------------------+----+---------+--------------+--------------------+------------+------+----+--------+----+-----------+------------+----------------+--------+-------+-------+-----------+--------------+---------+------+---+\n",
            "|(1-2-3-4-5-6-7) C...| Inez & Charlie Foxx|1968|       76|             5|4wXNtDvLZl55vlQas...|       0.686| 0.562| 5.0|  -8.538| 1.0|     0.0504|       0.589|        5.34e-05|   0.124|  0.793|116.782|   156886.0|           4.0|      1.0| 1960s|  0|\n",
            "|(All Of A Sudden)...|          Mel Carter|1965|       38|             7|6x5BiQwNlbtisITsE...|       0.419| 0.546| 7.0|  -7.819| 1.0|     0.0363|       0.479|        4.81e-06|   0.535|  0.493|118.106|   164067.0|           3.0|      1.0| 1960s|  1|\n",
            "|  (Baby) Hully Gully|        The Olympics|1960|       72|             7|2CkbNJooPxUsHG4gF...|       0.699| 0.661| 2.0|   -6.09| 1.0|     0.0382|       0.516|             0.0|   0.198|  0.869|115.772|   218642.0|           4.0|      1.0| 1960s|  2|\n",
            "|(Come round Here)...|        The Miracles|1966|       17|             9|5YvokzRkNONpj5c0T...|       0.545| 0.607| 0.0|  -9.525| 1.0|     0.0347|       0.242|             0.0|   0.779|  0.767| 113.88|   150067.0|           4.0|      1.0| 1960s|  3|\n",
            "|(Dance The) Mess ...|      Chubby Checker|1961|       24|             7|58EirkLFB6O6wwRN9...|       0.511| 0.694|10.0|  -5.509| 1.0|     0.0479|       0.381|             0.0|   0.195|  0.826|146.559|   132933.0|           4.0|      1.0| 1960s|  4|\n",
            "|(Do The New) Cont...|         The Dovells|1962|       37|            10|0nkM2uL3tRNm49zKd...|       0.703| 0.757| 8.0|  -6.267| 1.0|     0.0567|       0.206|             0.0|   0.284|  0.929| 120.46|   157453.0|           4.0|      1.0| 1960s|  5|\n",
            "|(Do The) Mashed P...|Nat Kendrick And ...|1960|       84|             2|4W7ps5zORgRWe691h...|       0.745| 0.837| 7.0|  -9.169| 1.0|     0.0467|       0.511|           0.339|   0.191|  0.932|134.471|   112400.0|           4.0|      1.0| 1960s|  6|\n",
            "| (Down At) Papa Joes|     The Dixiebelles|1963|        9|            13|6GdqL01aKgClu3DS6...|       0.402| 0.795| 7.0| -10.709| 1.0|     0.0781|       0.501|        0.000242|   0.349|  0.737|165.551|   152315.0|           4.0|      1.0| 1960s|  7|\n",
            "|(Ghost) Riders In...|             Ramrods|1961|       30|             9|7JqK0JRlIunCuy0ux...|       0.445| 0.835| 5.0|  -7.598| 1.0|     0.0455|       0.745|           0.601|   0.613|  0.351|120.956|   154827.0|           4.0|      1.0| 1960s|  8|\n",
            "|(Girls, Girls, Gi...|        Eddie Hodges|1962|       14|            11|4PeZdZt3Mf46SfsL6...|        0.61| 0.377| 9.0|  -9.805| 1.0|     0.0935|       0.414|             0.0|  0.0734|  0.519| 178.06|   150667.0|           4.0|      1.0| 1960s|  9|\n",
            "+--------------------+--------------------+----+---------+--------------+--------------------+------------+------+----+--------+----+-----------+------------+----------------+--------+-------+-------+-----------+--------------+---------+------+---+\n",
            "only showing top 10 rows\n",
            "\n"
          ]
        }
      ],
      "source": [
        "# Read in the data from an S3 Bucket\n",
        "from pyspark import SparkFiles\n",
        "\n",
        "url = \"https://billboard-top-100-project-4.s3.amazonaws.com/billboard_songs.csv\" #enter correct address here\n",
        "\n",
        "spark.sparkContext.addFile(url)  \n",
        "\n",
        "df = spark.read.option('header', 'true').csv(SparkFiles.get(\"billboard_songs.csv\"), inferSchema=True, sep=',')\n",
        "\n",
        "df.show(10)\n"
      ]
    },
    {
      "cell_type": "code",
      "source": [
        "print(df.count())\n",
        "df1 = df.na.drop(subset=[\"id\"])\n",
        "print(df1.count())\n",
        "df2 = df1.dropDuplicates(subset=[\"id\"])\n",
        "print(df2.count())"
      ],
      "metadata": {
        "colab": {
          "base_uri": "https://localhost:8080/"
        },
        "id": "_mA1C6X2QIuL",
        "outputId": "7e80583f-1213-422b-85ec-70697cf8bbb6"
      },
      "execution_count": null,
      "outputs": [
        {
          "output_type": "stream",
          "name": "stdout",
          "text": [
            "1225740\n",
            "1217668\n",
            "1216065\n"
          ]
        }
      ]
    },
    {
      "cell_type": "code",
      "source": [
        "df2.printSchema()"
      ],
      "metadata": {
        "colab": {
          "base_uri": "https://localhost:8080/"
        },
        "id": "76QEc6G2NHs4",
        "outputId": "d19983df-15c2-4fb8-cd74-7e9aff752c15"
      },
      "execution_count": null,
      "outputs": [
        {
          "output_type": "stream",
          "name": "stdout",
          "text": [
            "root\n",
            " |-- song: string (nullable = true)\n",
            " |-- artist: string (nullable = true)\n",
            " |-- year: integer (nullable = true)\n",
            " |-- peak-rank: integer (nullable = true)\n",
            " |-- weeks-on-board: string (nullable = true)\n",
            " |-- track_id: string (nullable = true)\n",
            " |-- danceability: float (nullable = true)\n",
            " |-- energy: float (nullable = true)\n",
            " |-- key: float (nullable = true)\n",
            " |-- loudness: float (nullable = true)\n",
            " |-- mode: float (nullable = true)\n",
            " |-- speechiness: float (nullable = true)\n",
            " |-- acousticness: float (nullable = true)\n",
            " |-- instrumentalness: float (nullable = true)\n",
            " |-- liveness: float (nullable = true)\n",
            " |-- valence: float (nullable = true)\n",
            " |-- tempo: float (nullable = true)\n",
            " |-- duration_ms: float (nullable = true)\n",
            " |-- time_signature: float (nullable = true)\n",
            " |-- billboard: integer (nullable = true)\n",
            " |-- decade: string (nullable = true)\n",
            " |-- id: integer (nullable = true)\n",
            "\n"
          ]
        }
      ]
    },
    {
      "cell_type": "code",
      "source": [
        "from pyspark.sql.functions import col\n",
        "\n",
        "df2 = df2.withColumn(\"peak-rank\",col(\"peak-rank\").cast(\"int\"))\n",
        "df2 = df2.withColumn(\"year\",col(\"year\").cast(\"int\"))\n",
        "df2 = df2.withColumn(\"billboard\",col(\"billboard\").cast(\"int\"))\n",
        "df2 = df2.withColumn(\"danceability\",col(\"danceability\").cast(\"float\"))\n",
        "df2 = df2.withColumn(\"energy\",col(\"energy\").cast(\"float\"))\n",
        "df2 = df2.withColumn(\"key\",col(\"key\").cast(\"float\"))\n",
        "df2 = df2.withColumn(\"loudness\",col(\"loudness\").cast(\"float\"))\n",
        "df2 = df2.withColumn(\"mode\",col(\"mode\").cast(\"float\"))\n",
        "df2 = df2.withColumn(\"speechiness\",col(\"speechiness\").cast(\"float\"))\n",
        "df2 = df2.withColumn(\"acousticness\",col(\"acousticness\").cast(\"float\"))\n",
        "df2 = df2.withColumn(\"instrumentalness\",col(\"instrumentalness\").cast(\"float\"))\n",
        "df2 = df2.withColumn(\"liveness\",col(\"liveness\").cast(\"float\"))\n",
        "df2 = df2.withColumn(\"valence\",col(\"valence\").cast(\"float\"))\n",
        "df2 = df2.withColumn(\"tempo\",col(\"tempo\").cast(\"float\"))\n",
        "df2 = df2.withColumn(\"duration_ms\",col(\"duration_ms\").cast(\"float\"))\n",
        "df2 = df2.withColumn(\"time_signature\",col(\"time_signature\").cast(\"float\"))\n",
        "df2 = df2.withColumn(\"id\",col(\"id\").cast(\"int\"))"
      ],
      "metadata": {
        "id": "QGqDUx4rKjEI"
      },
      "execution_count": null,
      "outputs": []
    },
    {
      "cell_type": "code",
      "source": [
        "df2 = df2.withColumnRenamed(\"peak-rank\", \"peak_rank\") \\\n",
        "         .withColumnRenamed(\"weeks-on-board\", \"weeks_on_board\") \\\n",
        "         .withColumnRenamed(\"key\", \"music_key\") \\\n",
        "         .withColumnRenamed(\"mode\", \"music_mode\") \\\n",
        "         .withColumnRenamed(\"year\", \"release_year\")\n",
        "df2.show(5)"
      ],
      "metadata": {
        "colab": {
          "base_uri": "https://localhost:8080/"
        },
        "id": "ZHGLpCIMqcGD",
        "outputId": "c460dee4-3c60-4486-f56d-6c2547f56da1"
      },
      "execution_count": null,
      "outputs": [
        {
          "output_type": "stream",
          "name": "stdout",
          "text": [
            "+--------------------+--------------------+------------+---------+--------------+--------------------+------------+------+---------+--------+----------+-----------+------------+----------------+--------+-------+-------+-----------+--------------+---------+------+---+\n",
            "|                song|              artist|release_year|peak_rank|weeks_on_board|            track_id|danceability|energy|music_key|loudness|music_mode|speechiness|acousticness|instrumentalness|liveness|valence|  tempo|duration_ms|time_signature|billboard|decade| id|\n",
            "+--------------------+--------------------+------------+---------+--------------+--------------------+------------+------+---------+--------+----------+-----------+------------+----------------+--------+-------+-------+-----------+--------------+---------+------+---+\n",
            "|(All Of A Sudden)...|          Mel Carter|        1965|       38|             7|6x5BiQwNlbtisITsE...|       0.419| 0.546|      7.0|  -7.819|       1.0|     0.0363|       0.479|         4.81E-6|   0.535|  0.493|118.106|   164067.0|           3.0|        1| 1960s|  1|\n",
            "|(Come round Here)...|        The Miracles|        1966|       17|             9|5YvokzRkNONpj5c0T...|       0.545| 0.607|      0.0|  -9.525|       1.0|     0.0347|       0.242|             0.0|   0.779|  0.767| 113.88|   150067.0|           4.0|        1| 1960s|  3|\n",
            "|(Do The) Mashed P...|Nat Kendrick And ...|        1960|       84|             2|4W7ps5zORgRWe691h...|       0.745| 0.837|      7.0|  -9.169|       1.0|     0.0467|       0.511|           0.339|   0.191|  0.932|134.471|   112400.0|           4.0|        1| 1960s|  6|\n",
            "|(Hes) Raining In ...| Jay & The Americans|        1966|       90|             4|5HOM0M2BWauNpzgcg...|       0.451| 0.553|      7.0|  -7.682|       1.0|     0.0338|       0.725|         1.08E-5|   0.131|  0.374|110.953|   170653.0|           4.0|        1| 1960s| 12|\n",
            "|(I Can Feel Your ...|       Barbara Mason|        1968|       97|             1|7tf10BYZc7tqY5k9e...|       0.439| 0.427|      0.0|  -5.455|       1.0|     0.0254|       0.563|             0.0|   0.295|  0.335| 77.419|   199627.0|           3.0|        1| 1960s| 13|\n",
            "+--------------------+--------------------+------------+---------+--------------+--------------------+------------+------+---------+--------+----------+-----------+------------+----------------+--------+-------+-------+-----------+--------------+---------+------+---+\n",
            "only showing top 5 rows\n",
            "\n"
          ]
        }
      ]
    },
    {
      "cell_type": "code",
      "execution_count": null,
      "metadata": {
        "colab": {
          "base_uri": "https://localhost:8080/"
        },
        "id": "Cayz-3Q52IM3",
        "outputId": "9df7cf67-7b6d-4617-90f2-61e70e5cc3e3"
      },
      "outputs": [
        {
          "output_type": "stream",
          "name": "stdout",
          "text": [
            "root\n",
            " |-- song: string (nullable = true)\n",
            " |-- artist: string (nullable = true)\n",
            " |-- release_year: integer (nullable = true)\n",
            " |-- peak_rank: integer (nullable = true)\n",
            " |-- weeks_on_board: integer (nullable = true)\n",
            " |-- track_id: string (nullable = true)\n",
            " |-- danceability: float (nullable = true)\n",
            " |-- energy: float (nullable = true)\n",
            " |-- music_key: float (nullable = true)\n",
            " |-- loudness: float (nullable = true)\n",
            " |-- music_mode: float (nullable = true)\n",
            " |-- speechiness: float (nullable = true)\n",
            " |-- acousticness: float (nullable = true)\n",
            " |-- instrumentalness: float (nullable = true)\n",
            " |-- liveness: float (nullable = true)\n",
            " |-- valence: float (nullable = true)\n",
            " |-- tempo: float (nullable = true)\n",
            " |-- duration_ms: float (nullable = true)\n",
            " |-- time_signature: float (nullable = true)\n",
            " |-- billboard: integer (nullable = true)\n",
            " |-- decade: string (nullable = true)\n",
            " |-- id: integer (nullable = true)\n",
            "\n"
          ]
        }
      ],
      "source": [
        "# Get the number of rows in the DataFrame.\n",
        "df2 = df2.withColumn(\"weeks_on_board\",col(\"weeks_on_board\").cast(\"int\"))\n",
        "df2.printSchema()\n"
      ]
    },
    {
      "cell_type": "code",
      "source": [
        "print(df2.count())\n",
        "\n",
        "df3 = df2.na.drop(subset=[\"id\"])\n",
        "print(df3.count())"
      ],
      "metadata": {
        "colab": {
          "base_uri": "https://localhost:8080/"
        },
        "id": "XaJzjFh7VkAF",
        "outputId": "ef8dbef4-80a4-4998-9c56-fa4da39ba4f9"
      },
      "execution_count": null,
      "outputs": [
        {
          "output_type": "stream",
          "name": "stdout",
          "text": [
            "1216065\n",
            "1216065\n"
          ]
        }
      ]
    },
    {
      "cell_type": "markdown",
      "metadata": {
        "id": "C9U0rkGZ2eu7"
      },
      "source": [
        "# Transform the Data"
      ]
    },
    {
      "cell_type": "markdown",
      "metadata": {
        "id": "I8aTsEjZ2s6L"
      },
      "source": [
        "# Load"
      ]
    },
    {
      "cell_type": "code",
      "execution_count": null,
      "metadata": {
        "id": "W4dzUKfI2vXM"
      },
      "outputs": [],
      "source": [
        "mode = \"append\"\n",
        "jdbc_url=\"jdbc:postgresql://billboard-db.c4q3joupwllm.us-east-1.rds.amazonaws.com:5432/project-4\"\n",
        "config = {\"user\":\"postgres\", \"password\": \"testpass\", \"driver\":\"org.postgresql.Driver\"}"
      ]
    },
    {
      "cell_type": "code",
      "execution_count": null,
      "metadata": {
        "id": "iOxKqMsD2yVs"
      },
      "outputs": [],
      "source": [
        "# Write review_id_df to table in RDS\n",
        "df3.write.jdbc(url=jdbc_url, table='data_table', mode=mode, properties=config)"
      ]
    }
  ],
  "metadata": {
    "colab": {
      "provenance": [],
      "include_colab_link": true
    },
    "kernelspec": {
      "display_name": "Python 3",
      "language": "python",
      "name": "python3"
    },
    "language_info": {
      "codemirror_mode": {
        "name": "ipython",
        "version": 3
      },
      "file_extension": ".py",
      "mimetype": "text/x-python",
      "name": "python",
      "nbconvert_exporter": "python",
      "pygments_lexer": "ipython3",
      "version": "3.8.8"
    }
  },
  "nbformat": 4,
  "nbformat_minor": 0
}