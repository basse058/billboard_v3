{
 "cells": [
  {
   "cell_type": "code",
   "execution_count": 1,
   "metadata": {},
   "outputs": [],
   "source": [
    "import matplotlib.pyplot as plt\n",
    "import pandas as pd\n",
    "import numpy as np\n",
    "import os\n",
    "from sklearn.decomposition import PCA\n",
    "\n",
    "from sklearn.model_selection import train_test_split, GridSearchCV\n",
    "from sklearn.metrics import confusion_matrix, ConfusionMatrixDisplay, precision_score, recall_score, f1_score, classification_report\n",
    "from sklearn.preprocessing import StandardScaler, MinMaxScaler\n",
    "from sklearn.linear_model import LogisticRegression\n",
    "\n",
    "import joblib\n",
    "import pickle\n"
   ]
  },
  {
   "cell_type": "code",
   "execution_count": 11,
   "metadata": {},
   "outputs": [
    {
     "data": {
      "text/html": [
       "<div>\n",
       "<style scoped>\n",
       "    .dataframe tbody tr th:only-of-type {\n",
       "        vertical-align: middle;\n",
       "    }\n",
       "\n",
       "    .dataframe tbody tr th {\n",
       "        vertical-align: top;\n",
       "    }\n",
       "\n",
       "    .dataframe thead th {\n",
       "        text-align: right;\n",
       "    }\n",
       "</style>\n",
       "<table border=\"1\" class=\"dataframe\">\n",
       "  <thead>\n",
       "    <tr style=\"text-align: right;\">\n",
       "      <th></th>\n",
       "      <th>song</th>\n",
       "      <th>artist</th>\n",
       "      <th>year</th>\n",
       "      <th>peak-rank</th>\n",
       "      <th>weeks-on-board</th>\n",
       "      <th>track_id</th>\n",
       "      <th>danceability</th>\n",
       "      <th>energy</th>\n",
       "      <th>key</th>\n",
       "      <th>loudness</th>\n",
       "      <th>...</th>\n",
       "      <th>speechiness</th>\n",
       "      <th>acousticness</th>\n",
       "      <th>instrumentalness</th>\n",
       "      <th>liveness</th>\n",
       "      <th>valence</th>\n",
       "      <th>tempo</th>\n",
       "      <th>duration_ms</th>\n",
       "      <th>time_signature</th>\n",
       "      <th>billboard</th>\n",
       "      <th>decade</th>\n",
       "    </tr>\n",
       "  </thead>\n",
       "  <tbody>\n",
       "    <tr>\n",
       "      <th>0</th>\n",
       "      <td>(1-2-3-4-5-6-7) Count The Days</td>\n",
       "      <td>Inez &amp; Charlie Foxx</td>\n",
       "      <td>1968</td>\n",
       "      <td>76</td>\n",
       "      <td>5</td>\n",
       "      <td>4wXNtDvLZl55vlQashWQrI</td>\n",
       "      <td>0.686</td>\n",
       "      <td>0.562</td>\n",
       "      <td>5.0</td>\n",
       "      <td>-8.538</td>\n",
       "      <td>...</td>\n",
       "      <td>0.0504</td>\n",
       "      <td>0.589</td>\n",
       "      <td>0.000053</td>\n",
       "      <td>0.124</td>\n",
       "      <td>0.793</td>\n",
       "      <td>116.782</td>\n",
       "      <td>156886.0</td>\n",
       "      <td>4.0</td>\n",
       "      <td>1</td>\n",
       "      <td>1960s</td>\n",
       "    </tr>\n",
       "    <tr>\n",
       "      <th>1</th>\n",
       "      <td>(All Of A Sudden) My Heart Sings</td>\n",
       "      <td>Mel Carter</td>\n",
       "      <td>1965</td>\n",
       "      <td>38</td>\n",
       "      <td>7</td>\n",
       "      <td>6x5BiQwNlbtisITsEHa8Eu</td>\n",
       "      <td>0.419</td>\n",
       "      <td>0.546</td>\n",
       "      <td>7.0</td>\n",
       "      <td>-7.819</td>\n",
       "      <td>...</td>\n",
       "      <td>0.0363</td>\n",
       "      <td>0.479</td>\n",
       "      <td>0.000005</td>\n",
       "      <td>0.535</td>\n",
       "      <td>0.493</td>\n",
       "      <td>118.106</td>\n",
       "      <td>164067.0</td>\n",
       "      <td>3.0</td>\n",
       "      <td>1</td>\n",
       "      <td>1960s</td>\n",
       "    </tr>\n",
       "    <tr>\n",
       "      <th>2</th>\n",
       "      <td>(Baby) Hully Gully</td>\n",
       "      <td>The Olympics</td>\n",
       "      <td>1960</td>\n",
       "      <td>72</td>\n",
       "      <td>7</td>\n",
       "      <td>2CkbNJooPxUsHG4gFXKhxa</td>\n",
       "      <td>0.699</td>\n",
       "      <td>0.661</td>\n",
       "      <td>2.0</td>\n",
       "      <td>-6.090</td>\n",
       "      <td>...</td>\n",
       "      <td>0.0382</td>\n",
       "      <td>0.516</td>\n",
       "      <td>0.000000</td>\n",
       "      <td>0.198</td>\n",
       "      <td>0.869</td>\n",
       "      <td>115.772</td>\n",
       "      <td>218642.0</td>\n",
       "      <td>4.0</td>\n",
       "      <td>1</td>\n",
       "      <td>1960s</td>\n",
       "    </tr>\n",
       "    <tr>\n",
       "      <th>3</th>\n",
       "      <td>(Come round Here) Im The One You Need</td>\n",
       "      <td>The Miracles</td>\n",
       "      <td>1966</td>\n",
       "      <td>17</td>\n",
       "      <td>9</td>\n",
       "      <td>5YvokzRkNONpj5c0TIqTjQ</td>\n",
       "      <td>0.545</td>\n",
       "      <td>0.607</td>\n",
       "      <td>0.0</td>\n",
       "      <td>-9.525</td>\n",
       "      <td>...</td>\n",
       "      <td>0.0347</td>\n",
       "      <td>0.242</td>\n",
       "      <td>0.000000</td>\n",
       "      <td>0.779</td>\n",
       "      <td>0.767</td>\n",
       "      <td>113.880</td>\n",
       "      <td>150067.0</td>\n",
       "      <td>4.0</td>\n",
       "      <td>1</td>\n",
       "      <td>1960s</td>\n",
       "    </tr>\n",
       "    <tr>\n",
       "      <th>4</th>\n",
       "      <td>(Dance The) Mess Around</td>\n",
       "      <td>Chubby Checker</td>\n",
       "      <td>1961</td>\n",
       "      <td>24</td>\n",
       "      <td>7</td>\n",
       "      <td>58EirkLFB6O6wwRN9JowHB</td>\n",
       "      <td>0.511</td>\n",
       "      <td>0.694</td>\n",
       "      <td>10.0</td>\n",
       "      <td>-5.509</td>\n",
       "      <td>...</td>\n",
       "      <td>0.0479</td>\n",
       "      <td>0.381</td>\n",
       "      <td>0.000000</td>\n",
       "      <td>0.195</td>\n",
       "      <td>0.826</td>\n",
       "      <td>146.559</td>\n",
       "      <td>132933.0</td>\n",
       "      <td>4.0</td>\n",
       "      <td>1</td>\n",
       "      <td>1960s</td>\n",
       "    </tr>\n",
       "  </tbody>\n",
       "</table>\n",
       "<p>5 rows × 21 columns</p>\n",
       "</div>"
      ],
      "text/plain": [
       "                                    song               artist  year  \\\n",
       "0         (1-2-3-4-5-6-7) Count The Days  Inez & Charlie Foxx  1968   \n",
       "1       (All Of A Sudden) My Heart Sings           Mel Carter  1965   \n",
       "2                     (Baby) Hully Gully         The Olympics  1960   \n",
       "3  (Come round Here) Im The One You Need         The Miracles  1966   \n",
       "4                (Dance The) Mess Around       Chubby Checker  1961   \n",
       "\n",
       "   peak-rank  weeks-on-board                track_id  danceability  energy  \\\n",
       "0         76               5  4wXNtDvLZl55vlQashWQrI         0.686   0.562   \n",
       "1         38               7  6x5BiQwNlbtisITsEHa8Eu         0.419   0.546   \n",
       "2         72               7  2CkbNJooPxUsHG4gFXKhxa         0.699   0.661   \n",
       "3         17               9  5YvokzRkNONpj5c0TIqTjQ         0.545   0.607   \n",
       "4         24               7  58EirkLFB6O6wwRN9JowHB         0.511   0.694   \n",
       "\n",
       "    key  loudness  ...  speechiness  acousticness  instrumentalness  liveness  \\\n",
       "0   5.0    -8.538  ...       0.0504         0.589          0.000053     0.124   \n",
       "1   7.0    -7.819  ...       0.0363         0.479          0.000005     0.535   \n",
       "2   2.0    -6.090  ...       0.0382         0.516          0.000000     0.198   \n",
       "3   0.0    -9.525  ...       0.0347         0.242          0.000000     0.779   \n",
       "4  10.0    -5.509  ...       0.0479         0.381          0.000000     0.195   \n",
       "\n",
       "   valence    tempo  duration_ms  time_signature  billboard  decade  \n",
       "0    0.793  116.782     156886.0             4.0          1   1960s  \n",
       "1    0.493  118.106     164067.0             3.0          1   1960s  \n",
       "2    0.869  115.772     218642.0             4.0          1   1960s  \n",
       "3    0.767  113.880     150067.0             4.0          1   1960s  \n",
       "4    0.826  146.559     132933.0             4.0          1   1960s  \n",
       "\n",
       "[5 rows x 21 columns]"
      ]
     },
     "execution_count": 11,
     "metadata": {},
     "output_type": "execute_result"
    }
   ],
   "source": [
    "# Read in full dataset\n",
    "df = pd.read_csv('./Resources/all_songs_final.csv')\n",
    "df.head()"
   ]
  },
  {
   "cell_type": "code",
   "execution_count": 12,
   "metadata": {},
   "outputs": [
    {
     "data": {
      "text/plain": [
       "2010s    502874\n",
       "2000s    427619\n",
       "1990s    156740\n",
       "1980s     32824\n",
       "1970s     22323\n",
       "1960s     15258\n",
       "Name: decade, dtype: int64"
      ]
     },
     "execution_count": 12,
     "metadata": {},
     "output_type": "execute_result"
    }
   ],
   "source": [
    "# mask = df[(df['billboard']==1) & ((df['weeks-on-board']<4) & (df['peak-rank']>50))]\n",
    "# df = df[(df['billboard']==0) | ((df['weeks-on-board']>4) & (df['peak-rank']<=50))]\n",
    "# df.drop(mask.index, axis=1, inplace=True)\n",
    "# len(df)\n",
    "\n",
    "# df = df[(df['billboard']==0) | (df['peak-rank']<=10) & (df['weeks-on-board']>2)]\n",
    "\n",
    "df['decade'].value_counts()\n",
    "# mask"
   ]
  },
  {
   "cell_type": "code",
   "execution_count": 13,
   "metadata": {},
   "outputs": [],
   "source": [
    "# Create separate dataframe for each decade\n",
    "df1960s = df[df['decade']=='1960s']\n",
    "df1970s = df[df['decade']=='1970s']\n",
    "df1980s = df[df['decade']=='1980s']\n",
    "df1990s = df[df['decade']=='1990s']\n",
    "df2000s = df[df['decade']=='2000s']\n",
    "df2010s = df[df['decade']=='2010s']\n"
   ]
  },
  {
   "cell_type": "code",
   "execution_count": 14,
   "metadata": {},
   "outputs": [],
   "source": [
    "df = df1980s\n",
    "name = \"1980s\""
   ]
  },
  {
   "cell_type": "code",
   "execution_count": 15,
   "metadata": {},
   "outputs": [
    {
     "data": {
      "text/html": [
       "<div>\n",
       "<style scoped>\n",
       "    .dataframe tbody tr th:only-of-type {\n",
       "        vertical-align: middle;\n",
       "    }\n",
       "\n",
       "    .dataframe tbody tr th {\n",
       "        vertical-align: top;\n",
       "    }\n",
       "\n",
       "    .dataframe thead th {\n",
       "        text-align: right;\n",
       "    }\n",
       "</style>\n",
       "<table border=\"1\" class=\"dataframe\">\n",
       "  <thead>\n",
       "    <tr style=\"text-align: right;\">\n",
       "      <th></th>\n",
       "      <th>danceability</th>\n",
       "      <th>energy</th>\n",
       "      <th>loudness</th>\n",
       "      <th>speechiness</th>\n",
       "      <th>acousticness</th>\n",
       "      <th>instrumentalness</th>\n",
       "      <th>liveness</th>\n",
       "      <th>valence</th>\n",
       "      <th>tempo</th>\n",
       "      <th>duration_ms</th>\n",
       "    </tr>\n",
       "  </thead>\n",
       "  <tbody>\n",
       "    <tr>\n",
       "      <th>12046</th>\n",
       "      <td>0.764</td>\n",
       "      <td>0.840</td>\n",
       "      <td>-9.781</td>\n",
       "      <td>0.1060</td>\n",
       "      <td>0.0866</td>\n",
       "      <td>0.000199</td>\n",
       "      <td>0.3540</td>\n",
       "      <td>0.659</td>\n",
       "      <td>111.215</td>\n",
       "      <td>289307.0</td>\n",
       "    </tr>\n",
       "    <tr>\n",
       "      <th>12047</th>\n",
       "      <td>0.764</td>\n",
       "      <td>0.840</td>\n",
       "      <td>-9.781</td>\n",
       "      <td>0.1060</td>\n",
       "      <td>0.0866</td>\n",
       "      <td>0.000199</td>\n",
       "      <td>0.3540</td>\n",
       "      <td>0.659</td>\n",
       "      <td>111.215</td>\n",
       "      <td>289307.0</td>\n",
       "    </tr>\n",
       "    <tr>\n",
       "      <th>12048</th>\n",
       "      <td>0.612</td>\n",
       "      <td>0.523</td>\n",
       "      <td>-11.425</td>\n",
       "      <td>0.0321</td>\n",
       "      <td>0.4480</td>\n",
       "      <td>0.000002</td>\n",
       "      <td>0.0727</td>\n",
       "      <td>0.495</td>\n",
       "      <td>124.315</td>\n",
       "      <td>216973.0</td>\n",
       "    </tr>\n",
       "    <tr>\n",
       "      <th>12049</th>\n",
       "      <td>0.615</td>\n",
       "      <td>0.845</td>\n",
       "      <td>-9.943</td>\n",
       "      <td>0.0393</td>\n",
       "      <td>0.0928</td>\n",
       "      <td>0.000028</td>\n",
       "      <td>0.0755</td>\n",
       "      <td>0.585</td>\n",
       "      <td>117.444</td>\n",
       "      <td>227960.0</td>\n",
       "    </tr>\n",
       "    <tr>\n",
       "      <th>12050</th>\n",
       "      <td>0.574</td>\n",
       "      <td>0.812</td>\n",
       "      <td>-3.300</td>\n",
       "      <td>0.0799</td>\n",
       "      <td>0.1490</td>\n",
       "      <td>0.000000</td>\n",
       "      <td>0.4340</td>\n",
       "      <td>0.642</td>\n",
       "      <td>111.358</td>\n",
       "      <td>237520.0</td>\n",
       "    </tr>\n",
       "  </tbody>\n",
       "</table>\n",
       "</div>"
      ],
      "text/plain": [
       "       danceability  energy  loudness  speechiness  acousticness  \\\n",
       "12046         0.764   0.840    -9.781       0.1060        0.0866   \n",
       "12047         0.764   0.840    -9.781       0.1060        0.0866   \n",
       "12048         0.612   0.523   -11.425       0.0321        0.4480   \n",
       "12049         0.615   0.845    -9.943       0.0393        0.0928   \n",
       "12050         0.574   0.812    -3.300       0.0799        0.1490   \n",
       "\n",
       "       instrumentalness  liveness  valence    tempo  duration_ms  \n",
       "12046          0.000199    0.3540    0.659  111.215     289307.0  \n",
       "12047          0.000199    0.3540    0.659  111.215     289307.0  \n",
       "12048          0.000002    0.0727    0.495  124.315     216973.0  \n",
       "12049          0.000028    0.0755    0.585  117.444     227960.0  \n",
       "12050          0.000000    0.4340    0.642  111.358     237520.0  "
      ]
     },
     "execution_count": 15,
     "metadata": {},
     "output_type": "execute_result"
    }
   ],
   "source": [
    "# data = df[['danceability', 'energy', 'key', 'loudness', 'mode', 'speechiness',\n",
    "#        'acousticness', 'instrumentalness', 'liveness', 'valence', 'tempo',\n",
    "#        'duration_ms', 'time_signature']]\n",
    "\n",
    "data = df[['danceability', 'energy', 'loudness', 'speechiness',\n",
    "       'acousticness', 'instrumentalness', 'liveness', 'valence', 'tempo',\n",
    "       'duration_ms']]\n",
    "data.head()"
   ]
  },
  {
   "cell_type": "code",
   "execution_count": 16,
   "metadata": {},
   "outputs": [],
   "source": [
    "target = df[\"billboard\"]\n",
    "target_names = [\"not_a_hit\", \"hit\"]"
   ]
  },
  {
   "cell_type": "code",
   "execution_count": 21,
   "metadata": {},
   "outputs": [],
   "source": [
    "from sklearn.model_selection import train_test_split\n",
    "X_train, X_test, y_train, y_test = train_test_split(data, target, random_state=42)"
   ]
  },
  {
   "cell_type": "code",
   "execution_count": 22,
   "metadata": {},
   "outputs": [
    {
     "data": {
      "text/plain": [
       "Counter({0: 21124, 1: 21124})"
      ]
     },
     "execution_count": 22,
     "metadata": {},
     "output_type": "execute_result"
    }
   ],
   "source": [
    "from imblearn.over_sampling import SMOTE\n",
    "from imblearn.under_sampling import NearMiss\n",
    "\n",
    "from collections import Counter\n",
    "...\n",
    "# define the undersampling method\n",
    "# undersample = NearMiss(version=2, sampling_strategy={0:1000, 1:5000})\n",
    "#removing the random_state dosent help\n",
    "oversample = SMOTE(random_state=0, sampling_strategy=1)\n",
    "X_train, y_train = oversample.fit_resample(X_train, y_train)\n",
    "\n",
    "counter = Counter(y_train)\n",
    "counter\n",
    "\n",
    "# X_res.value_counts()"
   ]
  },
  {
   "cell_type": "code",
   "execution_count": 23,
   "metadata": {},
   "outputs": [
    {
     "name": "stdout",
     "output_type": "stream",
     "text": [
      "Scaled Test Acc: 0.700\n"
     ]
    }
   ],
   "source": [
    "scaler = MinMaxScaler()\n",
    "scaler.fit(X_train)\n",
    "X_train_scaled = scaler.transform(X_train)\n",
    "X_test_scaled = scaler.transform(X_test)\n",
    "\n",
    "\n",
    "# # Support vector machine linear classifier\n",
    "from sklearn.svm import SVC \n",
    "\n",
    "modelsc = SVC(kernel='rbf', probability=True)\n",
    "# modelsc = LogisticRegression(class_weight='balanced')\n",
    "modelsc.fit(X_train_scaled, y_train)\n",
    "\n",
    "# Model Accuracy\n",
    "print('Scaled Test Acc: %.3f' % modelsc.score(X_test_scaled, y_test))"
   ]
  },
  {
   "cell_type": "code",
   "execution_count": 101,
   "metadata": {},
   "outputs": [],
   "source": [
    "# create an iterator object with write permission - model.pkl\n",
    "with open(f'./ML_models/scaler_{name}', 'wb') as files:\n",
    "    pickle.dump(scaler, files)\n",
    "\n",
    "\n",
    "# create an iterator object with write permission - model.pkl\n",
    "with open(f'./ML_models/model_{name}', 'wb') as files:\n",
    "    pickle.dump(modelsc, files)"
   ]
  },
  {
   "cell_type": "code",
   "execution_count": 19,
   "metadata": {},
   "outputs": [
    {
     "name": "stderr",
     "output_type": "stream",
     "text": [
      "/Users/glena.dagger/Downloads/anaconda3/envs/mlenv/lib/python3.7/site-packages/sklearn/metrics/_classification.py:1318: UndefinedMetricWarning: Precision is ill-defined and being set to 0.0 due to no predicted samples. Use `zero_division` parameter to control this behavior.\n",
      "  _warn_prf(average, modifier, msg_start, len(result))\n"
     ]
    },
    {
     "data": {
      "text/plain": [
       "0.0"
      ]
     },
     "execution_count": 19,
     "metadata": {},
     "output_type": "execute_result"
    }
   ],
   "source": [
    "y_pred = modelsc.predict(X_test_scaled)\n",
    "precision_score(y_test, y_pred)"
   ]
  },
  {
   "cell_type": "code",
   "execution_count": 20,
   "metadata": {},
   "outputs": [
    {
     "data": {
      "text/plain": [
       "0.0"
      ]
     },
     "execution_count": 20,
     "metadata": {},
     "output_type": "execute_result"
    }
   ],
   "source": [
    "f1_score(y_test, y_pred)"
   ]
  },
  {
   "cell_type": "code",
   "execution_count": 60,
   "metadata": {},
   "outputs": [
    {
     "data": {
      "text/plain": [
       "14920      1\n",
       "1137267    0\n",
       "375100     0\n",
       "1096021    0\n",
       "803927     0\n",
       "          ..\n",
       "686190     0\n",
       "12192      1\n",
       "1134561    0\n",
       "766712     0\n",
       "173319     0\n",
       "Name: billboard, Length: 8206, dtype: int64"
      ]
     },
     "execution_count": 60,
     "metadata": {},
     "output_type": "execute_result"
    }
   ],
   "source": [
    "X_test_scaled.shape"
   ]
  },
  {
   "cell_type": "code",
   "execution_count": 151,
   "metadata": {},
   "outputs": [],
   "source": [
    "\n",
    "# file name, I'm using *.joblib as a file extension\n",
    "filename = \"./ML_models/1980s_predictor.pickle\"\n",
    "\n",
    "# save model\n",
    "joblib.dump(modelsc, filename)\n",
    "\n",
    "# load model\n",
    "loaded_model = joblib.load(filename)\n",
    "\n",
    "test_song = [0.586,\n",
    " 0.616,\n",
    "#  5,\n",
    " -7.964,\n",
    "#  1,\n",
    " 0.0324,\n",
    " 0.182,\n",
    " 0,\n",
    " 0.0927,\n",
    " 0.719,\n",
    " 148.088,\n",
    " 242096]\n",
    "# you can use loaded model to compute predictions\n",
    "y_predicted = loaded_model.predict([test_song])"
   ]
  },
  {
   "cell_type": "code",
   "execution_count": 116,
   "metadata": {},
   "outputs": [
    {
     "data": {
      "text/plain": [
       "5581"
      ]
     },
     "execution_count": 116,
     "metadata": {},
     "output_type": "execute_result"
    }
   ],
   "source": [
    "len(y_test)"
   ]
  },
  {
   "cell_type": "code",
   "execution_count": 80,
   "metadata": {},
   "outputs": [
    {
     "name": "stdout",
     "output_type": "stream",
     "text": [
      "              precision    recall  f1-score   support\n",
      "\n",
      "           0       0.95      0.72      0.82      7066\n",
      "           1       0.31      0.78      0.44      1140\n",
      "\n",
      "    accuracy                           0.72      8206\n",
      "   macro avg       0.63      0.75      0.63      8206\n",
      "weighted avg       0.86      0.72      0.76      8206\n",
      "\n"
     ]
    },
    {
     "data": {
      "text/plain": [
       "<sklearn.metrics._plot.confusion_matrix.ConfusionMatrixDisplay at 0x7fe9dfce8fd0>"
      ]
     },
     "execution_count": 80,
     "metadata": {},
     "output_type": "execute_result"
    },
    {
     "data": {
      "image/png": "[encoded data removed]",
      "text/plain": [
       "<Figure size 640x480 with 2 Axes>"
      ]
     },
     "metadata": {},
     "output_type": "display_data"
    }
   ],
   "source": [
    "cm = confusion_matrix(y_test, y_pred)\n",
    "report = classification_report(y_test, y_pred)\n",
    "print(report)\n",
    "\n",
    "ConfusionMatrixDisplay(cm).plot()"
   ]
  },
  {
   "cell_type": "code",
   "execution_count": 30,
   "metadata": {},
   "outputs": [
    {
     "data": {
      "text/plain": [
       "array([0])"
      ]
     },
     "execution_count": 30,
     "metadata": {},
     "output_type": "execute_result"
    }
   ],
   "source": [
    "test_song = [0.586,\n",
    " 0.616,\n",
    "#  5,\n",
    " -7.964,\n",
    "#  1,\n",
    " 0.0324,\n",
    " 0.182,\n",
    " 0,\n",
    " 0.0927,\n",
    " 0.719,\n",
    " 148.088,\n",
    " 242096]\n",
    "\n",
    "# modelsc.predict([test_song])\n",
    "\n",
    "modelsc.predict([test_song])"
   ]
  },
  {
   "cell_type": "code",
   "execution_count": 152,
   "metadata": {},
   "outputs": [],
   "source": [
    "scaler = StandardScaler()\n",
    "scaler.fit(X_train)\n",
    "X_train_scaled = scaler.transform(X_train)\n",
    "X_test_scaled = scaler.transform(X_test)"
   ]
  },
  {
   "cell_type": "code",
   "execution_count": 153,
   "metadata": {},
   "outputs": [
    {
     "data": {
      "text/plain": [
       "SVC(kernel='linear', probability=True)"
      ]
     },
     "execution_count": 153,
     "metadata": {},
     "output_type": "execute_result"
    }
   ],
   "source": [
    "# Support vector machine linear classifier\n",
    "from sklearn.svm import SVC \n",
    "\n",
    "modelsc = SVC(kernel='linear', probability=True)\n",
    "modelsc.fit(X_train_scaled, y_train)"
   ]
  },
  {
   "cell_type": "code",
   "execution_count": 155,
   "metadata": {},
   "outputs": [
    {
     "name": "stdout",
     "output_type": "stream",
     "text": [
      "Scaled Test Acc: 0.675\n",
      "[[1412  727]\n",
      " [  48  199]]\n",
      "Precision: 0.21490280777537796\n"
     ]
    },
    {
     "data": {
      "text/plain": [
       "<sklearn.metrics._plot.confusion_matrix.ConfusionMatrixDisplay at 0x7fe74d8a9150>"
      ]
     },
     "execution_count": 155,
     "metadata": {},
     "output_type": "execute_result"
    },
    {
     "data": {
      "image/png": "[encoded data removed]",
      "text/plain": [
       "<Figure size 640x480 with 2 Axes>"
      ]
     },
     "metadata": {},
     "output_type": "display_data"
    }
   ],
   "source": [
    "# Model Accuracy\n",
    "print('Scaled Test Acc: %.3f' % modelsc.score(X_test_scaled, y_test))\n",
    "y_true = y_test\n",
    "y_predsc = modelsc.predict(X_test_scaled)\n",
    "cm = confusion_matrix(y_true, y_predsc)\n",
    "\n",
    "print(cm)\n",
    "print(\"Precision:\", precision_score(y_true, y_predsc))\n",
    "\n",
    "\n",
    "ConfusionMatrixDisplay(cm).plot()"
   ]
  },
  {
   "cell_type": "code",
   "execution_count": 156,
   "metadata": {},
   "outputs": [
    {
     "data": {
      "image/png": "[encoded data removed]",
      "text/plain": [
       "<Figure size 640x480 with 1 Axes>"
      ]
     },
     "metadata": {},
     "output_type": "display_data"
    }
   ],
   "source": [
    "from sklearn.metrics import roc_curve, roc_auc_score\n",
    "from sklearn.metrics import auc\n",
    "\n",
    "y_pred_proba = modelsc.predict_proba(X_test_scaled)[:,1]\n",
    "fpr, tpr, thresholds = roc_curve(y_test, y_pred_proba)\n",
    "roc_auc = auc(fpr, tpr)\n",
    "\n",
    "plt.figure()\n",
    "plt.plot(fpr, tpr, color='darkorange',\n",
    "         label=f'ROC curve (area = {roc_auc:0.2f})')\n",
    "plt.plot([0, 1], [0, 1], color='navy', linestyle='--')\n",
    "plt.xlim([0.0, 1.0])\n",
    "plt.ylim([0.0, 1.05])\n",
    "plt.xlabel('False Positive Rate')\n",
    "plt.ylabel('True Positive Rate')\n",
    "plt.title('Receiver operating characteristic example')\n",
    "plt.legend(loc=\"lower right\")\n",
    "plt.show()"
   ]
  },
  {
   "cell_type": "code",
   "execution_count": 157,
   "metadata": {},
   "outputs": [
    {
     "name": "stdout",
     "output_type": "stream",
     "text": [
      "True Positive(TP)  =  199\n",
      "False Positive(FP) =  727\n",
      "True Negative(TN)  =  1412\n",
      "False Negative(FN) =  48\n",
      "Accuracy of the binary classification = 0.675\n"
     ]
    }
   ],
   "source": [
    "cm = confusion_matrix(y_test, y_predsc)\n",
    "\n",
    "TN, FP, FN, TP = confusion_matrix(y_test, y_predsc).ravel()\n",
    "\n",
    "print('True Positive(TP)  = ', TP)\n",
    "print('False Positive(FP) = ', FP)\n",
    "print('True Negative(TN)  = ', TN)\n",
    "print('False Negative(FN) = ', FN)\n",
    "\n",
    "accuracy =  (TP+TN) /(TP+FP+TN+FN)\n",
    "\n",
    "print('Accuracy of the binary classification = {:0.3f}'.format(accuracy))"
   ]
  },
  {
   "cell_type": "code",
   "execution_count": 91,
   "metadata": {},
   "outputs": [
    {
     "name": "stdout",
     "output_type": "stream",
     "text": [
      "              precision    recall  f1-score   support\n",
      "\n",
      "           0       0.87      0.62      0.72      2151\n",
      "           1       0.64      0.88      0.74      1664\n",
      "\n",
      "    accuracy                           0.73      3815\n",
      "   macro avg       0.75      0.75      0.73      3815\n",
      "weighted avg       0.77      0.73      0.73      3815\n",
      "\n"
     ]
    }
   ],
   "source": [
    "from sklearn.metrics import f1_score, classification_report\n",
    "\n",
    "report = classification_report(y_test, y_pred)\n",
    "# precision_score(y_test, y_pred)\n",
    "print(report)"
   ]
  },
  {
   "cell_type": "code",
   "execution_count": 2,
   "metadata": {},
   "outputs": [],
   "source": [
    "def predict_decade(track_features, decade):\n",
    "    \n",
    "    file_path = \"./ML_models/\"\n",
    "    model_names = {\"1960s\": \"model_1960s\",\n",
    "                \"1970s\": \"model_1970s\",\n",
    "                \"1980s\": \"model_1980s\",\n",
    "                \"1990s\": \"model_1990s\",\n",
    "                \"2000s\": \"model_2000s\",\n",
    "                \"2010s\": \"model_1970s\"}\n",
    "    \n",
    "    scaler_names = {\"1960s\": \"scaler_1960s\",\n",
    "                \"1970s\": \"scaler_1970s\",\n",
    "                \"1980s\": \"scaler_1980s\",\n",
    "                \"1990s\": \"scaler_1990s\",\n",
    "                \"2000s\": \"scaler_2000s\",\n",
    "                \"2010s\": \"scaler_2010s\"}\n",
    "\n",
    "    # load model\n",
    "    loaded_model = joblib.load(f\"{file_path}{model_names[decade]}\")\n",
    "    loaded_scaler = joblib.load(f\"{file_path}{scaler_names[decade]}\")\n",
    "\n",
    "    scaled_features = loaded_scaler.transform(track_features)\n",
    "\n",
    "    # you can use loaded model to compute predictions\n",
    "    y_predict = loaded_model.predict(scaled_features)\n",
    "    y_pred_proba = loaded_model.predict_proba(scaled_features)\n",
    "\n",
    "    if y_predict[0] == 1:\n",
    "        billboard_prob = round(y_pred_proba[0][0], 3) * 100\n",
    "        noncharting_prob = round(y_pred_proba[0][1],3) * 100\n",
    "    else:\n",
    "        billboard_prob = round(y_pred_proba[0][1], 3) * 100\n",
    "        noncharting_prob = round(y_pred_proba[0][0],3) * 100\n",
    "\n",
    "    \n",
    "    print(f\"Billboard Top 100: {billboard_prob}%\\nNot Charting: {noncharting_prob}%\")\n"
   ]
  },
  {
   "cell_type": "code",
   "execution_count": 5,
   "metadata": {},
   "outputs": [
    {
     "name": "stdout",
     "output_type": "stream",
     "text": [
      "Billboard Top 100: 12.8%\n",
      "Not Charting: 87.2%\n"
     ]
    },
    {
     "name": "stderr",
     "output_type": "stream",
     "text": [
      "/Users/glena.dagger/Downloads/anaconda3/envs/mlenv/lib/python3.7/site-packages/sklearn/base.py:451: UserWarning: X does not have valid feature names, but StandardScaler was fitted with feature names\n",
      "  \"X does not have valid feature names, but\"\n"
     ]
    }
   ],
   "source": [
    "test_song = [0.644,\n",
    " 0.808,\n",
    " 5,\n",
    " -7.268,\n",
    " 1,\n",
    " 0.0513,\n",
    " 0.0467,\n",
    " 0.187,\n",
    " 0.0652,\n",
    " 0.175,\n",
    " 174.98,\n",
    " 266507]\n",
    "\n",
    "\n",
    "predict_decade([[0.369, 0.403, -7.996, 0.0259, 0.827, 0.0541, 0.106, 0.177, 154.899, 241917]], \"1970s\")"
   ]
  },
  {
   "cell_type": "code",
   "execution_count": 13,
   "metadata": {},
   "outputs": [
    {
     "ename": "NameError",
     "evalue": "name 'modelsc' is not defined",
     "output_type": "error",
     "traceback": [
      "\u001b[0;31m---------------------------------------------------------------------------\u001b[0m",
      "\u001b[0;31mNameError\u001b[0m                                 Traceback (most recent call last)",
      "\u001b[0;32m/var/folders/f5/fmwr4j4s4gv2xp3_q6xpt02w0000gn/T/ipykernel_67544/3673075153.py\u001b[0m in \u001b[0;36m<module>\u001b[0;34m\u001b[0m\n\u001b[0;32m----> 1\u001b[0;31m \u001b[0mmodelsc\u001b[0m\u001b[0;34m.\u001b[0m\u001b[0mpredict_proba\u001b[0m\u001b[0;34m(\u001b[0m\u001b[0;34m[\u001b[0m\u001b[0mtest_song\u001b[0m\u001b[0;34m]\u001b[0m\u001b[0;34m)\u001b[0m\u001b[0;34m\u001b[0m\u001b[0;34m\u001b[0m\u001b[0m\n\u001b[0m",
      "\u001b[0;31mNameError\u001b[0m: name 'modelsc' is not defined"
     ]
    }
   ],
   "source": [
    "modelsc.predict_proba([test_song])"
   ]
  },
  {
   "cell_type": "code",
   "execution_count": null,
   "metadata": {},
   "outputs": [],
   "source": []
  }
 ],
 "metadata": {
  "kernelspec": {
   "display_name": "base",
   "language": "python",
   "name": "python3"
  },
  "language_info": {
   "codemirror_mode": {
    "name": "ipython",
    "version": 3
   },
   "file_extension": ".py",
   "mimetype": "text/x-python",
   "name": "python",
   "nbconvert_exporter": "python",
   "pygments_lexer": "ipython3",
   "version": "3.7.13"
  },
  "orig_nbformat": 4
 },
 "nbformat": 4,
 "nbformat_minor": 2
}
